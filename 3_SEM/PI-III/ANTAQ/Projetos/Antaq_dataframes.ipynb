{
  "cells": [
    {
      "attachments": {},
      "cell_type": "markdown",
      "id": "06b12aba",
      "metadata": {},
      "source": [
        "# **Análise exploratória de dados - dados estatísticos - ANTAQ**"
      ]
    },
    {
      "attachments": {},
      "cell_type": "markdown",
      "id": "f8527590",
      "metadata": {},
      "source": [
        "Fazendo conexão com o banco de dados no PostgreSQL:"
      ]
    },
    {
      "cell_type": "code",
      "execution_count": 2,
      "id": "db79207a",
      "metadata": {
        "id": "db79207a",
        "scrolled": true
      },
      "outputs": [],
      "source": [
        "import psycopg2 as pg\n",
        "import pandas as pd\n",
        "import sys\n",
        "\n",
        "\n",
        "parametros = {\"host\": \"localhost\",\n",
        "             \"database\": \"Antaq\",\n",
        "             \"port\": 5432,\n",
        "             \"user\": \"postgres\",\n",
        "             \"password\": \"28549108\"}\n",
        "def conexao_existe(parametros):\n",
        "    #conectando com o db Antaq - Postgres\n",
        "    conn = None\n",
        "    try:\n",
        "        #tenta conectar\n",
        "        print('Conectando com o banco no PostgreSQL...')\n",
        "        conn = pg.connect(**parametros)\n",
        "    #não conecta exceto se:\n",
        "    except  (Exception, pg.DatabaseError) as error:\n",
        "        print (error)\n",
        "        sys.exit(1)\n",
        "    print(\"Conexão realizada com sucesso\")\n",
        "    return conn"
      ]
    },
    {
      "cell_type": "code",
      "execution_count": 3,
      "id": "7c31593c",
      "metadata": {
        "id": "7c31593c"
      },
      "outputs": [],
      "source": [
        "def pg_to_pd(conn, select_query, colunas):\n",
        "    #Transformando a SELECT QUERY em dataframe\n",
        "    cursor = conn.cursor()\n",
        "    try: \n",
        "        cursor.execute(select_query)\n",
        "    except (Exception, pg.DatabaseError) as error:\n",
        "        print(\"Error: %s\" % error)\n",
        "        cursor.close()\n",
        "        return 1\n",
        "    \n",
        "    tuplas = cursor.fetchall()\n",
        "    cursor.close()\n",
        "    \n",
        "    df = pd.DataFrame(tuplas, columns=colunas)\n",
        "    return df"
      ]
    },
    {
      "attachments": {},
      "cell_type": "markdown",
      "id": "bbe7783e",
      "metadata": {},
      "source": [
        "**Conectando e passando os dados para dataframe - Tabela Carga Região**"
      ]
    },
    {
      "cell_type": "code",
      "execution_count": null,
      "id": "7cdd7f0f",
      "metadata": {
        "collapsed": true,
        "id": "7cdd7f0f"
      },
      "outputs": [],
      "source": [
        "conn = conexao_existe(parametros)\n",
        "\n",
        "nomes_col = [\"IDCarga\", \"Regiao Hidrográfica\", \"Valor da movimentação\"]\n",
        "\n",
        "df = pg_to_pd(conn, \"select * from tbCarga_Regiao\", nomes_col)\n",
        "df"
      ]
    },
    {
      "attachments": {},
      "cell_type": "markdown",
      "id": "e0904d54",
      "metadata": {},
      "source": [
        "**Conectando e passando dados para dataframe - Tabela Hidrovia**"
      ]
    },
    {
      "cell_type": "code",
      "execution_count": null,
      "id": "7cd5c58b",
      "metadata": {
        "collapsed": true,
        "id": "7cd5c58b",
        "outputId": "092a66b2-037f-4038-845b-586a45ffec4d"
      },
      "outputs": [],
      "source": [
        "conn = conexao_existe(parametros)\n",
        "\n",
        "nomes_col = [\"IDCarga\", \"Hidrovia\", \"Valor da movimentação da Hidrovia\"]\n",
        "\n",
        "df = pg_to_pd(conn, \"select * from tbCarga_Hidrovia\", nomes_col)\n",
        "df"
      ]
    },
    {
      "attachments": {},
      "cell_type": "markdown",
      "id": "5ef1aeae",
      "metadata": {},
      "source": [
        "**Conectando e passando os dados para um dataframe - Tabela Carga Rio**"
      ]
    },
    {
      "cell_type": "code",
      "execution_count": null,
      "id": "c2370f08",
      "metadata": {
        "collapsed": true,
        "id": "c2370f08"
      },
      "outputs": [],
      "source": [
        "conn = conexao_existe(parametros)\n",
        "\n",
        "nomes_col = [\"IDCarga\", \"Rio\", \"Valor Movimentação Rio\"]\n",
        "\n",
        "df = pg_to_pd(conn, \"select * from tbCarga_Rio\", nomes_col)\n",
        "df"
      ]
    },
    {
      "attachments": {},
      "cell_type": "markdown",
      "id": "3f6edd0e",
      "metadata": {},
      "source": [
        "**Conectando e passando para dataframe - Tabela Carga Conteinerizada**"
      ]
    },
    {
      "cell_type": "code",
      "execution_count": null,
      "id": "d074d093",
      "metadata": {
        "collapsed": true,
        "id": "d074d093",
        "outputId": "c5da1eeb-9983-4a31-94b1-a466c9cfdbfc"
      },
      "outputs": [],
      "source": [
        "conn = conexao_existe(parametros)\n",
        "\n",
        "nomes_col = [\"Valor peso carga\"]\n",
        "\n",
        "df = pg_to_pd(conn, \"select vl_peso_carga from tbCarga_Conteinerizada\", nomes_col)\n",
        "df.describe()"
      ]
    },
    {
      "attachments": {},
      "cell_type": "markdown",
      "id": "3c1f4b09",
      "metadata": {},
      "source": [
        "**Conectando com o banco - Tabela Taxa de ocupação**"
      ]
    },
    {
      "cell_type": "code",
      "execution_count": 4,
      "id": "e05c6587",
      "metadata": {},
      "outputs": [
        {
          "name": "stdout",
          "output_type": "stream",
          "text": [
            "Conectando com o banco no PostgreSQL...\n",
            "Conexão realizada com sucesso\n"
          ]
        },
        {
          "data": {
            "text/html": [
              "<div>\n",
              "<style scoped>\n",
              "    .dataframe tbody tr th:only-of-type {\n",
              "        vertical-align: middle;\n",
              "    }\n",
              "\n",
              "    .dataframe tbody tr th {\n",
              "        vertical-align: top;\n",
              "    }\n",
              "\n",
              "    .dataframe thead th {\n",
              "        text-align: right;\n",
              "    }\n",
              "</style>\n",
              "<table border=\"1\" class=\"dataframe\">\n",
              "  <thead>\n",
              "    <tr style=\"text-align: right;\">\n",
              "      <th></th>\n",
              "      <th>dia taxa</th>\n",
              "      <th>ano taxa</th>\n",
              "      <th>Tempo em minutos/dias</th>\n",
              "    </tr>\n",
              "  </thead>\n",
              "  <tbody>\n",
              "    <tr>\n",
              "      <th>count</th>\n",
              "      <td>304775.000000</td>\n",
              "      <td>304775.0</td>\n",
              "      <td>304775.000000</td>\n",
              "    </tr>\n",
              "    <tr>\n",
              "      <th>mean</th>\n",
              "      <td>15.720548</td>\n",
              "      <td>2022.0</td>\n",
              "      <td>460.928505</td>\n",
              "    </tr>\n",
              "    <tr>\n",
              "      <th>std</th>\n",
              "      <td>8.796261</td>\n",
              "      <td>0.0</td>\n",
              "      <td>619.067568</td>\n",
              "    </tr>\n",
              "    <tr>\n",
              "      <th>min</th>\n",
              "      <td>1.000000</td>\n",
              "      <td>2022.0</td>\n",
              "      <td>0.000000</td>\n",
              "    </tr>\n",
              "    <tr>\n",
              "      <th>25%</th>\n",
              "      <td>8.000000</td>\n",
              "      <td>2022.0</td>\n",
              "      <td>0.000000</td>\n",
              "    </tr>\n",
              "    <tr>\n",
              "      <th>50%</th>\n",
              "      <td>16.000000</td>\n",
              "      <td>2022.0</td>\n",
              "      <td>0.000000</td>\n",
              "    </tr>\n",
              "    <tr>\n",
              "      <th>75%</th>\n",
              "      <td>23.000000</td>\n",
              "      <td>2022.0</td>\n",
              "      <td>1241.500000</td>\n",
              "    </tr>\n",
              "    <tr>\n",
              "      <th>max</th>\n",
              "      <td>31.000000</td>\n",
              "      <td>2022.0</td>\n",
              "      <td>1440.000000</td>\n",
              "    </tr>\n",
              "  </tbody>\n",
              "</table>\n",
              "</div>"
            ],
            "text/plain": [
              "            dia taxa  ano taxa  Tempo em minutos/dias\n",
              "count  304775.000000  304775.0          304775.000000\n",
              "mean       15.720548    2022.0             460.928505\n",
              "std         8.796261       0.0             619.067568\n",
              "min         1.000000    2022.0               0.000000\n",
              "25%         8.000000    2022.0               0.000000\n",
              "50%        16.000000    2022.0               0.000000\n",
              "75%        23.000000    2022.0            1241.500000\n",
              "max        31.000000    2022.0            1440.000000"
            ]
          },
          "execution_count": 4,
          "metadata": {},
          "output_type": "execute_result"
        }
      ],
      "source": [
        "conn = conexao_existe(parametros)\n",
        "\n",
        "nomes_col = [\"IDBerco\", \"dia taxa\", \"mês taxa\", \"ano taxa\", \"Tempo em minutos/dias\"]\n",
        "\n",
        "df_taxa = pg_to_pd(conn, \"select * from tbtaxa_ocupação\", nomes_col)\n",
        "df_taxa.describe()"
      ]
    },
    {
      "cell_type": "code",
      "execution_count": null,
      "id": "0fcf9535",
      "metadata": {
        "colab": {
          "base_uri": "https://localhost:8080/",
          "height": 73
        },
        "id": "0fcf9535",
        "outputId": "60219b75-a644-4082-b4b1-69e0815ffb20"
      },
      "outputs": [],
      "source": [
        "# from google.colab import files\n",
        "# uploaded = files.upload()\n",
        "# import io\n",
        "# df = pd.read_csv(io.BytesIO(uploaded['2022Carga_Rio.csv']), delimiter=\";\", header=0, encoding=\"UTF-8\", engine=\"python\")"
      ]
    },
    {
      "attachments": {},
      "cell_type": "markdown",
      "id": "2d0c6d9f",
      "metadata": {},
      "source": [
        "Colunas dataframes: "
      ]
    },
    {
      "cell_type": "code",
      "execution_count": 12,
      "id": "55f60e6c",
      "metadata": {
        "colab": {
          "base_uri": "https://localhost:8080/"
        },
        "id": "55f60e6c",
        "outputId": "a7ee29a0-f161-4bdc-ca5a-e003b4ac122a",
        "scrolled": true
      },
      "outputs": [
        {
          "data": {
            "text/plain": [
              "array(['IDBerco', 'dia taxa', 'mês taxa', 'ano taxa',\n",
              "       'Tempo em minutos/dias'], dtype=object)"
            ]
          },
          "execution_count": 12,
          "metadata": {},
          "output_type": "execute_result"
        }
      ],
      "source": [
        "df.columns.values"
      ]
    },
    {
      "attachments": {},
      "cell_type": "markdown",
      "id": "e036c77f",
      "metadata": {},
      "source": [
        "Filtrando dataframe por colunas: "
      ]
    },
    {
      "cell_type": "code",
      "execution_count": 44,
      "id": "78bb8224",
      "metadata": {
        "id": "78bb8224"
      },
      "outputs": [],
      "source": [
        "coluna_df = [\"Valor Movimentação Rio\", \"Rio\"]\n",
        "carga_mov = df.filter(items=coluna_df)"
      ]
    },
    {
      "cell_type": "code",
      "execution_count": 46,
      "id": "DVZrEiKXvBDT",
      "metadata": {
        "id": "DVZrEiKXvBDT"
      },
      "outputs": [],
      "source": [
        "coluna_df = [\"ValorMovimentado\"]\n",
        "carga_mov = df.filter(items=coluna_df)"
      ]
    },
    {
      "attachments": {},
      "cell_type": "markdown",
      "id": "fbacae9d",
      "metadata": {},
      "source": [
        "Removendo coluna - dataframe: "
      ]
    },
    {
      "cell_type": "code",
      "execution_count": null,
      "id": "qWlzhzCWw-fn",
      "metadata": {
        "colab": {
          "base_uri": "https://localhost:8080/"
        },
        "id": "qWlzhzCWw-fn",
        "outputId": "2f874c7f-412b-4c42-c24d-eb6bc21f1d44"
      },
      "outputs": [],
      "source": [
        "df.pop('IDCarga')"
      ]
    },
    {
      "attachments": {},
      "cell_type": "markdown",
      "id": "e7021060",
      "metadata": {},
      "source": [
        "Exibindo dataframe: "
      ]
    },
    {
      "cell_type": "code",
      "execution_count": 25,
      "id": "0aJaaTMpxNTy",
      "metadata": {
        "colab": {
          "base_uri": "https://localhost:8080/",
          "height": 423
        },
        "id": "0aJaaTMpxNTy",
        "outputId": "9c27e85f-100c-417f-f9ef-49f16834f0be"
      },
      "outputs": [
        {
          "data": {
            "text/html": [
              "<div>\n",
              "<style scoped>\n",
              "    .dataframe tbody tr th:only-of-type {\n",
              "        vertical-align: middle;\n",
              "    }\n",
              "\n",
              "    .dataframe tbody tr th {\n",
              "        vertical-align: top;\n",
              "    }\n",
              "\n",
              "    .dataframe thead th {\n",
              "        text-align: right;\n",
              "    }\n",
              "</style>\n",
              "<table border=\"1\" class=\"dataframe\">\n",
              "  <thead>\n",
              "    <tr style=\"text-align: right;\">\n",
              "      <th></th>\n",
              "      <th>IDBerco</th>\n",
              "      <th>dia taxa</th>\n",
              "      <th>mês taxa</th>\n",
              "      <th>ano taxa</th>\n",
              "      <th>Tempo em minutos/dias</th>\n",
              "    </tr>\n",
              "  </thead>\n",
              "  <tbody>\n",
              "    <tr>\n",
              "      <th>0</th>\n",
              "      <td>SUAPIB5</td>\n",
              "      <td>1</td>\n",
              "      <td>jan</td>\n",
              "      <td>2022</td>\n",
              "      <td>1440</td>\n",
              "    </tr>\n",
              "    <tr>\n",
              "      <th>1</th>\n",
              "      <td>SSZ0412</td>\n",
              "      <td>1</td>\n",
              "      <td>jan</td>\n",
              "      <td>2022</td>\n",
              "      <td>1440</td>\n",
              "    </tr>\n",
              "    <tr>\n",
              "      <th>2</th>\n",
              "      <td>SSZ0663</td>\n",
              "      <td>1</td>\n",
              "      <td>jan</td>\n",
              "      <td>2022</td>\n",
              "      <td>0</td>\n",
              "    </tr>\n",
              "    <tr>\n",
              "      <th>3</th>\n",
              "      <td>SSZ0816</td>\n",
              "      <td>1</td>\n",
              "      <td>jan</td>\n",
              "      <td>2022</td>\n",
              "      <td>0</td>\n",
              "    </tr>\n",
              "    <tr>\n",
              "      <th>4</th>\n",
              "      <td>BEL0002</td>\n",
              "      <td>1</td>\n",
              "      <td>jan</td>\n",
              "      <td>2022</td>\n",
              "      <td>1440</td>\n",
              "    </tr>\n",
              "    <tr>\n",
              "      <th>...</th>\n",
              "      <td>...</td>\n",
              "      <td>...</td>\n",
              "      <td>...</td>\n",
              "      <td>...</td>\n",
              "      <td>...</td>\n",
              "    </tr>\n",
              "    <tr>\n",
              "      <th>304770</th>\n",
              "      <td>BRPA2305001</td>\n",
              "      <td>31</td>\n",
              "      <td>dez</td>\n",
              "      <td>2022</td>\n",
              "      <td>0</td>\n",
              "    </tr>\n",
              "    <tr>\n",
              "      <th>304771</th>\n",
              "      <td>BRAM1555001</td>\n",
              "      <td>31</td>\n",
              "      <td>dez</td>\n",
              "      <td>2022</td>\n",
              "      <td>0</td>\n",
              "    </tr>\n",
              "    <tr>\n",
              "      <th>304772</th>\n",
              "      <td>BRPA2495001</td>\n",
              "      <td>31</td>\n",
              "      <td>dez</td>\n",
              "      <td>2022</td>\n",
              "      <td>375</td>\n",
              "    </tr>\n",
              "    <tr>\n",
              "      <th>304773</th>\n",
              "      <td>BRPA2465001</td>\n",
              "      <td>31</td>\n",
              "      <td>dez</td>\n",
              "      <td>2022</td>\n",
              "      <td>0</td>\n",
              "    </tr>\n",
              "    <tr>\n",
              "      <th>304774</th>\n",
              "      <td>BRRJ0275002</td>\n",
              "      <td>31</td>\n",
              "      <td>dez</td>\n",
              "      <td>2022</td>\n",
              "      <td>0</td>\n",
              "    </tr>\n",
              "  </tbody>\n",
              "</table>\n",
              "<p>304775 rows × 5 columns</p>\n",
              "</div>"
            ],
            "text/plain": [
              "            IDBerco  dia taxa mês taxa  ano taxa  Tempo em minutos/dias\n",
              "0           SUAPIB5         1      jan      2022                   1440\n",
              "1           SSZ0412         1      jan      2022                   1440\n",
              "2           SSZ0663         1      jan      2022                      0\n",
              "3           SSZ0816         1      jan      2022                      0\n",
              "4           BEL0002         1      jan      2022                   1440\n",
              "...             ...       ...      ...       ...                    ...\n",
              "304770  BRPA2305001        31      dez      2022                      0\n",
              "304771  BRAM1555001        31      dez      2022                      0\n",
              "304772  BRPA2495001        31      dez      2022                    375\n",
              "304773  BRPA2465001        31      dez      2022                      0\n",
              "304774  BRRJ0275002        31      dez      2022                      0\n",
              "\n",
              "[304775 rows x 5 columns]"
            ]
          },
          "execution_count": 25,
          "metadata": {},
          "output_type": "execute_result"
        }
      ],
      "source": [
        "df"
      ]
    },
    {
      "cell_type": "code",
      "execution_count": 5,
      "id": "a5fa6fb0",
      "metadata": {},
      "outputs": [
        {
          "data": {
            "text/html": [
              "<div>\n",
              "<style scoped>\n",
              "    .dataframe tbody tr th:only-of-type {\n",
              "        vertical-align: middle;\n",
              "    }\n",
              "\n",
              "    .dataframe tbody tr th {\n",
              "        vertical-align: top;\n",
              "    }\n",
              "\n",
              "    .dataframe thead th {\n",
              "        text-align: right;\n",
              "    }\n",
              "</style>\n",
              "<table border=\"1\" class=\"dataframe\">\n",
              "  <thead>\n",
              "    <tr style=\"text-align: right;\">\n",
              "      <th></th>\n",
              "      <th>dia taxa</th>\n",
              "      <th>mês taxa</th>\n",
              "      <th>Tempo em minutos/dias</th>\n",
              "    </tr>\n",
              "  </thead>\n",
              "  <tbody>\n",
              "    <tr>\n",
              "      <th>0</th>\n",
              "      <td>1</td>\n",
              "      <td>jan</td>\n",
              "      <td>1440</td>\n",
              "    </tr>\n",
              "    <tr>\n",
              "      <th>1</th>\n",
              "      <td>1</td>\n",
              "      <td>jan</td>\n",
              "      <td>1440</td>\n",
              "    </tr>\n",
              "    <tr>\n",
              "      <th>2</th>\n",
              "      <td>1</td>\n",
              "      <td>jan</td>\n",
              "      <td>0</td>\n",
              "    </tr>\n",
              "    <tr>\n",
              "      <th>3</th>\n",
              "      <td>1</td>\n",
              "      <td>jan</td>\n",
              "      <td>0</td>\n",
              "    </tr>\n",
              "    <tr>\n",
              "      <th>4</th>\n",
              "      <td>1</td>\n",
              "      <td>jan</td>\n",
              "      <td>1440</td>\n",
              "    </tr>\n",
              "    <tr>\n",
              "      <th>...</th>\n",
              "      <td>...</td>\n",
              "      <td>...</td>\n",
              "      <td>...</td>\n",
              "    </tr>\n",
              "    <tr>\n",
              "      <th>304770</th>\n",
              "      <td>31</td>\n",
              "      <td>dez</td>\n",
              "      <td>0</td>\n",
              "    </tr>\n",
              "    <tr>\n",
              "      <th>304771</th>\n",
              "      <td>31</td>\n",
              "      <td>dez</td>\n",
              "      <td>0</td>\n",
              "    </tr>\n",
              "    <tr>\n",
              "      <th>304772</th>\n",
              "      <td>31</td>\n",
              "      <td>dez</td>\n",
              "      <td>375</td>\n",
              "    </tr>\n",
              "    <tr>\n",
              "      <th>304773</th>\n",
              "      <td>31</td>\n",
              "      <td>dez</td>\n",
              "      <td>0</td>\n",
              "    </tr>\n",
              "    <tr>\n",
              "      <th>304774</th>\n",
              "      <td>31</td>\n",
              "      <td>dez</td>\n",
              "      <td>0</td>\n",
              "    </tr>\n",
              "  </tbody>\n",
              "</table>\n",
              "<p>304775 rows × 3 columns</p>\n",
              "</div>"
            ],
            "text/plain": [
              "        dia taxa mês taxa  Tempo em minutos/dias\n",
              "0              1      jan                   1440\n",
              "1              1      jan                   1440\n",
              "2              1      jan                      0\n",
              "3              1      jan                      0\n",
              "4              1      jan                   1440\n",
              "...          ...      ...                    ...\n",
              "304770        31      dez                      0\n",
              "304771        31      dez                      0\n",
              "304772        31      dez                    375\n",
              "304773        31      dez                      0\n",
              "304774        31      dez                      0\n",
              "\n",
              "[304775 rows x 3 columns]"
            ]
          },
          "execution_count": 5,
          "metadata": {},
          "output_type": "execute_result"
        }
      ],
      "source": [
        "colunas_taxa = [\"dia taxa\", \"mês taxa\", \"Tempo em minutos/dias\"]\n",
        "df_taxa_col = df_taxa.filter(items=colunas_taxa)\n",
        "df_taxa_col"
      ]
    },
    {
      "cell_type": "code",
      "execution_count": 6,
      "id": "9db92770",
      "metadata": {},
      "outputs": [
        {
          "data": {
            "text/html": [
              "<div>\n",
              "<style scoped>\n",
              "    .dataframe tbody tr th:only-of-type {\n",
              "        vertical-align: middle;\n",
              "    }\n",
              "\n",
              "    .dataframe tbody tr th {\n",
              "        vertical-align: top;\n",
              "    }\n",
              "\n",
              "    .dataframe thead th {\n",
              "        text-align: right;\n",
              "    }\n",
              "</style>\n",
              "<table border=\"1\" class=\"dataframe\">\n",
              "  <thead>\n",
              "    <tr style=\"text-align: right;\">\n",
              "      <th></th>\n",
              "      <th>dia taxa</th>\n",
              "      <th>Tempo em minutos/dias</th>\n",
              "    </tr>\n",
              "  </thead>\n",
              "  <tbody>\n",
              "    <tr>\n",
              "      <th>0</th>\n",
              "      <td>1</td>\n",
              "      <td>1440</td>\n",
              "    </tr>\n",
              "    <tr>\n",
              "      <th>1</th>\n",
              "      <td>1</td>\n",
              "      <td>1440</td>\n",
              "    </tr>\n",
              "    <tr>\n",
              "      <th>2</th>\n",
              "      <td>1</td>\n",
              "      <td>0</td>\n",
              "    </tr>\n",
              "    <tr>\n",
              "      <th>3</th>\n",
              "      <td>1</td>\n",
              "      <td>0</td>\n",
              "    </tr>\n",
              "    <tr>\n",
              "      <th>4</th>\n",
              "      <td>1</td>\n",
              "      <td>1440</td>\n",
              "    </tr>\n",
              "    <tr>\n",
              "      <th>...</th>\n",
              "      <td>...</td>\n",
              "      <td>...</td>\n",
              "    </tr>\n",
              "    <tr>\n",
              "      <th>304770</th>\n",
              "      <td>31</td>\n",
              "      <td>0</td>\n",
              "    </tr>\n",
              "    <tr>\n",
              "      <th>304771</th>\n",
              "      <td>31</td>\n",
              "      <td>0</td>\n",
              "    </tr>\n",
              "    <tr>\n",
              "      <th>304772</th>\n",
              "      <td>31</td>\n",
              "      <td>375</td>\n",
              "    </tr>\n",
              "    <tr>\n",
              "      <th>304773</th>\n",
              "      <td>31</td>\n",
              "      <td>0</td>\n",
              "    </tr>\n",
              "    <tr>\n",
              "      <th>304774</th>\n",
              "      <td>31</td>\n",
              "      <td>0</td>\n",
              "    </tr>\n",
              "  </tbody>\n",
              "</table>\n",
              "<p>304775 rows × 2 columns</p>\n",
              "</div>"
            ],
            "text/plain": [
              "        dia taxa  Tempo em minutos/dias\n",
              "0              1                   1440\n",
              "1              1                   1440\n",
              "2              1                      0\n",
              "3              1                      0\n",
              "4              1                   1440\n",
              "...          ...                    ...\n",
              "304770        31                      0\n",
              "304771        31                      0\n",
              "304772        31                    375\n",
              "304773        31                      0\n",
              "304774        31                      0\n",
              "\n",
              "[304775 rows x 2 columns]"
            ]
          },
          "execution_count": 6,
          "metadata": {},
          "output_type": "execute_result"
        }
      ],
      "source": [
        "colunas_taxa_1 = [\"dia taxa\", \"Tempo em minutos/dias\"]\n",
        "df_taxa_col_2 = df_taxa.filter(items=colunas_taxa_1)\n",
        "df_taxa_col_2"
      ]
    },
    {
      "cell_type": "code",
      "execution_count": null,
      "id": "25_yoEvN2-_m",
      "metadata": {
        "colab": {
          "base_uri": "https://localhost:8080/",
          "height": 175
        },
        "id": "25_yoEvN2-_m",
        "outputId": "1c6a8417-67d7-4032-b9a2-d7b2ba858ad6"
      },
      "outputs": [],
      "source": [
        "carga_mov.describe()"
      ]
    },
    {
      "cell_type": "code",
      "execution_count": null,
      "id": "OvAy9lpx1qaC",
      "metadata": {
        "colab": {
          "base_uri": "https://localhost:8080/"
        },
        "id": "OvAy9lpx1qaC",
        "outputId": "f5c983f6-9c0b-46be-d1d2-ad17d52556ac"
      },
      "outputs": [],
      "source": [
        "#Valor máximo em relação ao valor movimentado da Carga em rios\n",
        "carga_mov.min()"
      ]
    },
    {
      "cell_type": "code",
      "execution_count": null,
      "id": "MnGah3Dj5eLC",
      "metadata": {
        "id": "MnGah3Dj5eLC"
      },
      "outputs": [],
      "source": [
        "#Mediana em relação ao valor movimentado da Carga em rios\n",
        "carga_mov.median(axis=0, skipna=True, )"
      ]
    },
    {
      "cell_type": "code",
      "execution_count": null,
      "id": "T0Ta8i_gE4Xb",
      "metadata": {
        "id": "T0Ta8i_gE4Xb"
      },
      "outputs": [],
      "source": [
        "#Média em relação ao valor movimentado da Carga em rios\n",
        "carga_mov.mean(axis=0, skipna=True)"
      ]
    },
    {
      "cell_type": "code",
      "execution_count": null,
      "id": "3DGxXsSQt8YI",
      "metadata": {
        "colab": {
          "base_uri": "https://localhost:8080/"
        },
        "id": "3DGxXsSQt8YI",
        "outputId": "34558779-0207-417c-9328-8a910f41b152"
      },
      "outputs": [],
      "source": [
        "#Valor máximo em relação ao valor movimentado da Carga em rios\n",
        "carga_mov.max()"
      ]
    },
    {
      "cell_type": "code",
      "execution_count": null,
      "id": "rJGREtvV10u6",
      "metadata": {
        "id": "rJGREtvV10u6"
      },
      "outputs": [],
      "source": [
        "#Desvio padrão em relação ao valor movimentado da Carga em rios\n",
        "df.std(axis=1, ddof=0)"
      ]
    },
    {
      "attachments": {},
      "cell_type": "markdown",
      "id": "88d5d153",
      "metadata": {},
      "source": [
        "**Medidas de dispersão - Taxa de ocupação**"
      ]
    },
    {
      "cell_type": "code",
      "execution_count": 33,
      "id": "ab2afc10",
      "metadata": {},
      "outputs": [
        {
          "data": {
            "text/plain": [
              "dia taxa                 1\n",
              "Tempo em minutos/dias    0\n",
              "dtype: int64"
            ]
          },
          "execution_count": 33,
          "metadata": {},
          "output_type": "execute_result"
        }
      ],
      "source": [
        "#Valor máximo em relação ao valor movimentado da Carga em rios\n",
        "df_taxa_col_2.min()"
      ]
    },
    {
      "cell_type": "code",
      "execution_count": 34,
      "id": "a8111aef",
      "metadata": {},
      "outputs": [
        {
          "data": {
            "text/plain": [
              "dia taxa                  15.720548\n",
              "Tempo em minutos/dias    460.928505\n",
              "dtype: float64"
            ]
          },
          "execution_count": 34,
          "metadata": {},
          "output_type": "execute_result"
        }
      ],
      "source": [
        "df_taxa_col_2.mean(axis=0, skipna=True)"
      ]
    },
    {
      "cell_type": "code",
      "execution_count": 35,
      "id": "ef2c49d8",
      "metadata": {},
      "outputs": [
        {
          "data": {
            "text/plain": [
              "dia taxa                 16.0\n",
              "Tempo em minutos/dias     0.0\n",
              "dtype: float64"
            ]
          },
          "execution_count": 35,
          "metadata": {},
          "output_type": "execute_result"
        }
      ],
      "source": [
        "df_taxa_col_2.median(axis=0, skipna=True)"
      ]
    },
    {
      "cell_type": "code",
      "execution_count": 36,
      "id": "97fb1c5b",
      "metadata": {},
      "outputs": [
        {
          "data": {
            "text/plain": [
              "dia taxa                   31\n",
              "Tempo em minutos/dias    1440\n",
              "dtype: int64"
            ]
          },
          "execution_count": 36,
          "metadata": {},
          "output_type": "execute_result"
        }
      ],
      "source": [
        "df_taxa_col_2.max()"
      ]
    },
    {
      "cell_type": "code",
      "execution_count": 39,
      "id": "554448cc",
      "metadata": {},
      "outputs": [
        {
          "data": {
            "text/plain": [
              "dia taxa                   8.796247\n",
              "Tempo em minutos/dias    619.066552\n",
              "dtype: float64"
            ]
          },
          "execution_count": 39,
          "metadata": {},
          "output_type": "execute_result"
        }
      ],
      "source": [
        "df_taxa_col_2.std(ddof=0)"
      ]
    },
    {
      "cell_type": "code",
      "execution_count": null,
      "id": "T-a_DtMANbSY",
      "metadata": {
        "colab": {
          "base_uri": "https://localhost:8080/",
          "height": 489
        },
        "id": "T-a_DtMANbSY",
        "outputId": "99222acb-63b7-4a52-bb2c-49816ec71c71"
      },
      "outputs": [],
      "source": [
        "import matplotlib.pyplot as plt\n",
        "plt.figure(figsize= (11,5) )\n",
        "for rio in df['Rio'].unique():\n",
        "  plt.hist(df[df['Rio'] == rio]['ValorMovimentado'], bins=10, alpha=0.5, label='valores movimentados')\n",
        "plt.title('histograma de agrupamento de valores movimentados por rio', fontsize=15)\n",
        "plt.xlabel('Rio')\n",
        "plt.ylabel('Valor movimentado')\n",
        "plt.show()"
      ]
    },
    {
      "attachments": {},
      "cell_type": "markdown",
      "id": "e6ef32eb",
      "metadata": {},
      "source": [
        "## Histogramas - Taxa de ocupação em relação aos dias, mês, ano e tempo em minutos dias"
      ]
    },
    {
      "cell_type": "code",
      "execution_count": 48,
      "id": "0d80b247",
      "metadata": {},
      "outputs": [
        {
          "data": {
            "image/png": "[encoded data removed]",
            "text/plain": [
              "<Figure size 1100x500 with 1 Axes>"
            ]
          },
          "metadata": {},
          "output_type": "display_data"
        }
      ],
      "source": [
        "import matplotlib.pyplot as plt\n",
        "plt.figure(figsize= (11,5) )\n",
        "for tempo in df_taxa_col['Tempo em minutos/dias'].unique():\n",
        "  plt.hist(df_taxa_col[df['Tempo em minutos/dias'] == tempo]['dia taxa'], bins=10, alpha=1)\n",
        "plt.title('histograma de taxa ocupação em dias, minutos/dia', fontsize=12)\n",
        "plt.xlabel('dia')\n",
        "plt.ylabel('Tempo em minutos/dias')\n",
        "plt.show()"
      ]
    },
    {
      "cell_type": "code",
      "execution_count": 33,
      "id": "4c62b4b4",
      "metadata": {},
      "outputs": [
        {
          "ename": "KeyError",
          "evalue": "0",
          "output_type": "error",
          "traceback": [
            "\u001b[1;31m---------------------------------------------------------------------------\u001b[0m",
            "\u001b[1;31mKeyError\u001b[0m                                  Traceback (most recent call last)",
            "File \u001b[1;32mC:\\ANTAQ\\lib\\site-packages\\pandas\\core\\indexes\\base.py:3652\u001b[0m, in \u001b[0;36mIndex.get_loc\u001b[1;34m(self, key)\u001b[0m\n\u001b[0;32m   3651\u001b[0m \u001b[39mtry\u001b[39;00m:\n\u001b[1;32m-> 3652\u001b[0m     \u001b[39mreturn\u001b[39;00m \u001b[39mself\u001b[39;49m\u001b[39m.\u001b[39;49m_engine\u001b[39m.\u001b[39;49mget_loc(casted_key)\n\u001b[0;32m   3653\u001b[0m \u001b[39mexcept\u001b[39;00m \u001b[39mKeyError\u001b[39;00m \u001b[39mas\u001b[39;00m err:\n",
            "File \u001b[1;32mC:\\ANTAQ\\lib\\site-packages\\pandas\\_libs\\index.pyx:147\u001b[0m, in \u001b[0;36mpandas._libs.index.IndexEngine.get_loc\u001b[1;34m()\u001b[0m\n",
            "File \u001b[1;32mC:\\ANTAQ\\lib\\site-packages\\pandas\\_libs\\index.pyx:176\u001b[0m, in \u001b[0;36mpandas._libs.index.IndexEngine.get_loc\u001b[1;34m()\u001b[0m\n",
            "File \u001b[1;32mpandas\\_libs\\hashtable_class_helper.pxi:7080\u001b[0m, in \u001b[0;36mpandas._libs.hashtable.PyObjectHashTable.get_item\u001b[1;34m()\u001b[0m\n",
            "File \u001b[1;32mpandas\\_libs\\hashtable_class_helper.pxi:7088\u001b[0m, in \u001b[0;36mpandas._libs.hashtable.PyObjectHashTable.get_item\u001b[1;34m()\u001b[0m\n",
            "\u001b[1;31mKeyError\u001b[0m: 0",
            "\nThe above exception was the direct cause of the following exception:\n",
            "\u001b[1;31mKeyError\u001b[0m                                  Traceback (most recent call last)",
            "Cell \u001b[1;32mIn[33], line 9\u001b[0m\n\u001b[0;32m      7\u001b[0m y_offset \u001b[39m=\u001b[39m np\u001b[39m.\u001b[39mzeros(\u001b[39mlen\u001b[39m(df_taxa_col))\n\u001b[0;32m      8\u001b[0m \u001b[39mfor\u001b[39;00m i \u001b[39min\u001b[39;00m \u001b[39mrange\u001b[39m(n_df):\n\u001b[1;32m----> 9\u001b[0m   \u001b[39mprint\u001b[39m(df_taxa_col[i])\n\u001b[0;32m     10\u001b[0m   \u001b[39m#plt.bar(index, df_taxa_col[i], bottom=y_offset, color='orange')\u001b[39;00m\n\u001b[0;32m     11\u001b[0m   \u001b[39m#y_offset = y_offset + df_taxa_col[i]\u001b[39;00m\n\u001b[0;32m     12\u001b[0m plt\u001b[39m.\u001b[39mtitle(\u001b[39m'\u001b[39m\u001b[39mGráfico de barras de taxa ocupação em dias, minutos/dia\u001b[39m\u001b[39m'\u001b[39m, fontsize\u001b[39m=\u001b[39m\u001b[39m12\u001b[39m)\n",
            "File \u001b[1;32mC:\\ANTAQ\\lib\\site-packages\\pandas\\core\\frame.py:3761\u001b[0m, in \u001b[0;36mDataFrame.__getitem__\u001b[1;34m(self, key)\u001b[0m\n\u001b[0;32m   3759\u001b[0m \u001b[39mif\u001b[39;00m \u001b[39mself\u001b[39m\u001b[39m.\u001b[39mcolumns\u001b[39m.\u001b[39mnlevels \u001b[39m>\u001b[39m \u001b[39m1\u001b[39m:\n\u001b[0;32m   3760\u001b[0m     \u001b[39mreturn\u001b[39;00m \u001b[39mself\u001b[39m\u001b[39m.\u001b[39m_getitem_multilevel(key)\n\u001b[1;32m-> 3761\u001b[0m indexer \u001b[39m=\u001b[39m \u001b[39mself\u001b[39;49m\u001b[39m.\u001b[39;49mcolumns\u001b[39m.\u001b[39;49mget_loc(key)\n\u001b[0;32m   3762\u001b[0m \u001b[39mif\u001b[39;00m is_integer(indexer):\n\u001b[0;32m   3763\u001b[0m     indexer \u001b[39m=\u001b[39m [indexer]\n",
            "File \u001b[1;32mC:\\ANTAQ\\lib\\site-packages\\pandas\\core\\indexes\\base.py:3654\u001b[0m, in \u001b[0;36mIndex.get_loc\u001b[1;34m(self, key)\u001b[0m\n\u001b[0;32m   3652\u001b[0m     \u001b[39mreturn\u001b[39;00m \u001b[39mself\u001b[39m\u001b[39m.\u001b[39m_engine\u001b[39m.\u001b[39mget_loc(casted_key)\n\u001b[0;32m   3653\u001b[0m \u001b[39mexcept\u001b[39;00m \u001b[39mKeyError\u001b[39;00m \u001b[39mas\u001b[39;00m err:\n\u001b[1;32m-> 3654\u001b[0m     \u001b[39mraise\u001b[39;00m \u001b[39mKeyError\u001b[39;00m(key) \u001b[39mfrom\u001b[39;00m \u001b[39merr\u001b[39;00m\n\u001b[0;32m   3655\u001b[0m \u001b[39mexcept\u001b[39;00m \u001b[39mTypeError\u001b[39;00m:\n\u001b[0;32m   3656\u001b[0m     \u001b[39m# If we have a listlike key, _check_indexing_error will raise\u001b[39;00m\n\u001b[0;32m   3657\u001b[0m     \u001b[39m#  InvalidIndexError. Otherwise we fall through and re-raise\u001b[39;00m\n\u001b[0;32m   3658\u001b[0m     \u001b[39m#  the TypeError.\u001b[39;00m\n\u001b[0;32m   3659\u001b[0m     \u001b[39mself\u001b[39m\u001b[39m.\u001b[39m_check_indexing_error(key)\n",
            "\u001b[1;31mKeyError\u001b[0m: 0"
          ]
        },
        {
          "data": {
            "text/plain": [
              "<Figure size 1100x500 with 0 Axes>"
            ]
          },
          "metadata": {},
          "output_type": "display_data"
        }
      ],
      "source": [
        "import matplotlib.pyplot as plt\n",
        "import numpy as np\n",
        "plt.figure(figsize= (11,5) )\n",
        "\n",
        "n_df = len(df_taxa_col)\n",
        "index = np.arange(len(df_taxa_col))\n",
        "y_offset = np.zeros(len(df_taxa_col))\n",
        "for i in range(n_df):\n",
        "  #plt.bar(index, df_taxa_col[i], bottom=y_offset, color='orange')\n",
        "  #y_offset = y_offset + df_taxa_col[i]\n",
        "plt.title('Gráfico de barras de taxa ocupação em dias, minutos/dia', fontsize=12)\n",
        "plt.xlabel('dia')\n",
        "plt.ylabel('Tempo em minutos/dias')\n",
        "plt.show()"
      ]
    },
    {
      "attachments": {},
      "cell_type": "markdown",
      "id": "15dc390e",
      "metadata": {},
      "source": [
        "# **Análise em relação a taxa de ocupação por dias, mês e tempos em minutos/dias**"
      ]
    },
    {
      "cell_type": "code",
      "execution_count": null,
      "id": "fie7XiqS0BzH",
      "metadata": {
        "colab": {
          "base_uri": "https://localhost:8080/",
          "height": 311
        },
        "id": "fie7XiqS0BzH",
        "outputId": "fd0bf533-2475-4a9b-97e4-1bc969f6130b"
      },
      "outputs": [],
      "source": [
        "#Boxplot - Taxa de Ocupação\n",
        "df_taxa.plot(kind='box', figsize=(20,10), subplots=True)"
      ]
    },
    {
      "cell_type": "code",
      "execution_count": 24,
      "id": "17de1caf",
      "metadata": {},
      "outputs": [
        {
          "data": {
            "text/html": [
              "<div>\n",
              "<style scoped>\n",
              "    .dataframe tbody tr th:only-of-type {\n",
              "        vertical-align: middle;\n",
              "    }\n",
              "\n",
              "    .dataframe tbody tr th {\n",
              "        vertical-align: top;\n",
              "    }\n",
              "\n",
              "    .dataframe thead th {\n",
              "        text-align: right;\n",
              "    }\n",
              "</style>\n",
              "<table border=\"1\" class=\"dataframe\">\n",
              "  <thead>\n",
              "    <tr style=\"text-align: right;\">\n",
              "      <th></th>\n",
              "      <th>dia taxa</th>\n",
              "      <th>Tempo em minutos/dias</th>\n",
              "    </tr>\n",
              "  </thead>\n",
              "  <tbody>\n",
              "    <tr>\n",
              "      <th>count</th>\n",
              "      <td>304775.000000</td>\n",
              "      <td>304775.000000</td>\n",
              "    </tr>\n",
              "    <tr>\n",
              "      <th>mean</th>\n",
              "      <td>15.720548</td>\n",
              "      <td>460.928505</td>\n",
              "    </tr>\n",
              "    <tr>\n",
              "      <th>std</th>\n",
              "      <td>8.796261</td>\n",
              "      <td>619.067568</td>\n",
              "    </tr>\n",
              "    <tr>\n",
              "      <th>min</th>\n",
              "      <td>1.000000</td>\n",
              "      <td>0.000000</td>\n",
              "    </tr>\n",
              "    <tr>\n",
              "      <th>25%</th>\n",
              "      <td>8.000000</td>\n",
              "      <td>0.000000</td>\n",
              "    </tr>\n",
              "    <tr>\n",
              "      <th>50%</th>\n",
              "      <td>16.000000</td>\n",
              "      <td>0.000000</td>\n",
              "    </tr>\n",
              "    <tr>\n",
              "      <th>75%</th>\n",
              "      <td>23.000000</td>\n",
              "      <td>1241.500000</td>\n",
              "    </tr>\n",
              "    <tr>\n",
              "      <th>max</th>\n",
              "      <td>31.000000</td>\n",
              "      <td>1440.000000</td>\n",
              "    </tr>\n",
              "  </tbody>\n",
              "</table>\n",
              "</div>"
            ],
            "text/plain": [
              "            dia taxa  Tempo em minutos/dias\n",
              "count  304775.000000          304775.000000\n",
              "mean       15.720548             460.928505\n",
              "std         8.796261             619.067568\n",
              "min         1.000000               0.000000\n",
              "25%         8.000000               0.000000\n",
              "50%        16.000000               0.000000\n",
              "75%        23.000000            1241.500000\n",
              "max        31.000000            1440.000000"
            ]
          },
          "execution_count": 24,
          "metadata": {},
          "output_type": "execute_result"
        }
      ],
      "source": [
        "'''Medidas de dispersão - valor min, média, desvio padrão, primeiro quartil, \n",
        "mediana, terceiro quartil, valor máx. '''\n",
        "df_taxa_col.describe()"
      ]
    },
    {
      "cell_type": "code",
      "execution_count": 21,
      "id": "9cca2417",
      "metadata": {},
      "outputs": [
        {
          "data": {
            "text/plain": [
              "array(['dia taxa', 'mês taxa', 'Tempo em minutos/dias'], dtype=object)"
            ]
          },
          "execution_count": 21,
          "metadata": {},
          "output_type": "execute_result"
        }
      ],
      "source": [
        "#colunas dataframe - Taxa de ocupção\n",
        "df_taxa_col.columns.values"
      ]
    },
    {
      "cell_type": "code",
      "execution_count": 22,
      "id": "1b3ad636",
      "metadata": {},
      "outputs": [
        {
          "data": {
            "text/plain": [
              "dia taxa                    Axes(0.125,0.11;0.352273x0.77)\n",
              "Tempo em minutos/dias    Axes(0.547727,0.11;0.352273x0.77)\n",
              "dtype: object"
            ]
          },
          "execution_count": 22,
          "metadata": {},
          "output_type": "execute_result"
        },
        {
          "data": {
            "image/png": "[encoded data removed]",
            "text/plain": [
              "<Figure size 2000x1000 with 2 Axes>"
            ]
          },
          "metadata": {},
          "output_type": "display_data"
        }
      ],
      "source": [
        "#Boxplot por dia e minutos por dia\n",
        "df_taxa_col.plot(kind='box', figsize=(20,10), subplots=True)"
      ]
    },
    {
      "cell_type": "code",
      "execution_count": null,
      "id": "AHiqMYTIysVF",
      "metadata": {
        "colab": {
          "base_uri": "https://localhost:8080/",
          "height": 175
        },
        "id": "AHiqMYTIysVF",
        "outputId": "78aa3125-0448-4ecd-ff64-2f69d52d0718"
      },
      "outputs": [],
      "source": [
        "df.describe()"
      ]
    },
    {
      "cell_type": "code",
      "execution_count": null,
      "id": "592e2d44",
      "metadata": {
        "id": "592e2d44"
      },
      "outputs": [],
      "source": [
        "conn.close()"
      ]
    },
    {
      "attachments": {},
      "cell_type": "markdown",
      "id": "901aa078",
      "metadata": {
        "id": "901aa078"
      },
      "source": [
        "# **Lista de todos os pacotes/bibliotecas utilizadas no projeto**"
      ]
    },
    {
      "cell_type": "code",
      "execution_count": null,
      "id": "fb9fbff4",
      "metadata": {
        "colab": {
          "base_uri": "https://localhost:8080/"
        },
        "id": "fb9fbff4",
        "outputId": "ace020de-d4ad-454a-912f-af9613b7c1c8"
      },
      "outputs": [],
      "source": [
        "%pip list"
      ]
    }
  ],
  "metadata": {
    "colab": {
      "provenance": []
    },
    "kernelspec": {
      "display_name": "Python 3 (ipykernel)",
      "language": "python",
      "name": "python3"
    },
    "language_info": {
      "codemirror_mode": {
        "name": "ipython",
        "version": 3
      },
      "file_extension": ".py",
      "mimetype": "text/x-python",
      "name": "python",
      "nbconvert_exporter": "python",
      "pygments_lexer": "ipython3",
      "version": "3.9.13"
    }
  },
  "nbformat": 4,
  "nbformat_minor": 5
}
